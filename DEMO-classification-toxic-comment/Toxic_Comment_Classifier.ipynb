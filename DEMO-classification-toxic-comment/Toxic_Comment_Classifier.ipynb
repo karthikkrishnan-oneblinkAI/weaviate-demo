{
  "cells": [
    {
      "cell_type": "markdown",
      "metadata": {
        "id": "custom_hyperlink_cell"
      },
      "source": [
        "[Go to Home Page](https://weaviate.oneblink.ai)\n"
      ]
    },
    {
      "cell_type": "markdown",
      "id": "fc27707e",
      "metadata": {},
      "source": [
        "\n",
        "# Toxic Comment Classifier\n",
        "\n",
        "This Jupyter Notebook is part of the Toxic Comment Classifier project. The original project can be found [here](https://github.com/weaviate/weaviate-examples/tree/main/weaviate-toxic-comment-classifier).\n",
        "\n",
        "## Project Overview\n",
        "In this project, we explore the power of semantic search using the Toxic Comment Classification dataset in Weaviate. This dataset includes comments with binary labels indicating whether they are toxic. The project demonstrates how to index this dataset in Weaviate and use semantic search to classify comments.\n",
        "\n",
        "### Contextual Classification\n",
        "The project employs Contextual classification, a technique for making predictions based on context without relying on pre-existing training data. It's particularly effective for data with strong semantic connections.\n",
        "\n",
        "## Technology Stack\n",
        "- Python\n",
        "- Weaviate\n",
        "- Streamlit\n",
        "\n",
        "### Weaviate Modules/Models\n",
        "We use the [text2vec-contextionary (Contextionary) vectorizer](https://weaviate.io/developers/weaviate/modules/retriever-vectorizer-modules/text2vec-contextionary), which builds 300-dimensional vectors using a Weighted Mean of Word Embeddings (WMOWE) technique, trained on Wiki and CommonCrawl data.\n"
      ]
    },
    {
      "cell_type": "code",
      "execution_count": null,
      "id": "4b917cbe",
      "metadata": {},
      "outputs": [],
      "source": [
        "\n",
        "# Import necessary libraries\n",
        "import pandas as pd\n",
        "import weaviate\n",
        "import weaviate.classes as wvc\n",
        "from IPython.display import display, Image\n",
        "\n",
        "# Displaying a demo image (if available)\n",
        "# Image(\"demo.gif\")  # Uncomment this line if the demo.gif is available in the directory\n",
        "\n",
        "# Connect to Weaviate\n",
        "client = weaviate.connect_to_local(port=8081,grpc_port=50052)\n"
      ]
    },
    {
      "cell_type": "markdown",
      "id": "84e92e66",
      "metadata": {},
      "source": [
        "\n",
        "## Setting Up the Weaviate Client and Collection\n",
        "Before indexing the data, we set up the Weaviate client and create a collection named 'Comments'. If this collection already exists, it's deleted first to start fresh.\n"
      ]
    },
    {
      "cell_type": "code",
      "execution_count": null,
      "id": "89b9c103",
      "metadata": {},
      "outputs": [],
      "source": [
        "\n",
        "# Import necessary libraries\n",
        "import pandas as pd\n",
        "import weaviate\n",
        "import weaviate.classes as wvc\n",
        "\n",
        "# Define the collection name\n",
        "COLLECTION_NAME = 'Comments'\n",
        "\n",
        "# Set up the client\n",
        "client = weaviate.connect_to_local(port=8081,grpc_port=50052)\n",
        "\n",
        "# If collection already exists, delete it\n",
        "if client.collections.exists(COLLECTION_NAME):\n",
        "    client.collections.delete(COLLECTION_NAME)\n",
        "\n",
        "# Create collection\n",
        "client.collections.create(\n",
        "    name=COLLECTION_NAME,\n",
        "    properties=[\n",
        "        wvc.Property(\n",
        "            name=\"comment\",\n",
        "            data_type=wvc.DataType.TEXT,\n",
        "            description=\"The text of the comment\"\n",
        "        ),\n",
        "        wvc.Property(\n",
        "            name=\"label\",\n",
        "            data_type=wvc.DataType.TEXT,\n",
        "            description=\"The label of the comment\"\n",
        "        ),\n",
        "    ],\n",
        "    description=\"comments of people\",\n",
        "    vectorizer_config=wvc.Configure.Vectorizer.text2vec_contextionary(),\n",
        ")\n"
      ]
    },
    {
      "cell_type": "markdown",
      "id": "308f471e",
      "metadata": {},
      "source": [
        "\n",
        "## Data Preparation\n",
        "Next, we load and preprocess the Toxic Comment Classification dataset. This involves shuffling the data, renaming columns, and converting binary labels into text labels for better readability.\n"
      ]
    },
    {
      "cell_type": "code",
      "execution_count": null,
      "id": "5460392d",
      "metadata": {},
      "outputs": [],
      "source": [
        "\n",
        "# Load the dataset\n",
        "data = pd.read_csv(\"./train.csv\")\n",
        "\n",
        "# Shuffle the dataset\n",
        "data = data.sample(frac=1, random_state=42)\n",
        "\n",
        "# Rename the dataframe columns to match the names from collection definition\n",
        "data = data.rename(columns={'comment_text': 'comment', 'toxic': 'label'})\n",
        "\n",
        "# Turn binary label into text\n",
        "data.label = data.label.replace({1: 'Toxic', 0: 'Non Toxic'})\n"
      ]
    },
    {
      "cell_type": "markdown",
      "id": "37956d7b",
      "metadata": {},
      "source": [
        "\n",
        "## Data Ingestion into Weaviate\n",
        "We then ingest the prepared data into the Weaviate collection. This is a critical step in making our data searchable via semantic search.\n"
      ]
    },
    {
      "cell_type": "code",
      "execution_count": null,
      "id": "fb76580d",
      "metadata": {},
      "outputs": [],
      "source": [
        "\n",
        "# Fetch CRUD collection object\n",
        "comments = client.collections.get(COLLECTION_NAME)\n",
        "\n",
        "# Prepare objects (only 1000 entries, you can increase or decrease the number of entries)\n",
        "objects_to_add = [\n",
        "    wvc.DataObject(properties=rec) for rec in data.to_dict(orient='records')[:1000]\n",
        "]\n",
        "\n",
        "# Insert data into Weaviate\n",
        "response = comments.data.insert_many(objects_to_add)\n",
        "\n",
        "# Check for errors during insertion\n",
        "if response.has_errors:\n",
        "    for resp in response.all_responses:\n",
        "        print(resp.message)\n",
        "else:\n",
        "    print(\"Data added successfully\")\n"
      ]
    },
    {
      "cell_type": "markdown",
      "id": "fd525453",
      "metadata": {},
      "source": [
        "\n",
        "## Running the Streamlit App\n",
        "To interact with the classifier, we use a Streamlit app. The app allows users to input a comment and receive a classification in return. Due to the limitations of Jupyter, the Streamlit app must be run externally. Instructions for running the app are as follows:\n",
        "\n",
        "1. Open a terminal.\n",
        "2. Navigate to the directory containing the `app.py` file.\n",
        "3. Run the command `streamlit run app.py`.\n",
        "4. A local server will start, and you can view the app in your browser at `http://localhost:8501`.\n"
      ]
    },
    {
      "cell_type": "code",
      "execution_count": null,
      "id": "75b2d65f-14a4-4653-bbd7-8405aaf85dcd",
      "metadata": {},
      "outputs": [],
      "source": [
        "!python3.11 -m streamlit run app.py"
      ]
    },
    {
      "cell_type": "code",
      "execution_count": null,
      "id": "1563ba6c-9403-4295-b03b-b92f37745256",
      "metadata": {},
      "outputs": [],
      "source": []
    },
    {
      "cell_type": "markdown",
      "metadata": {
        "id": "custom_hyperlink_cell"
      },
      "source": [
        "[Go to Home Page](https://weaviate.oneblink.ai)\n"
      ]
    }
  ],
  "metadata": {
    "kernelspec": {
      "display_name": "Python 3 (ipykernel)",
      "language": "python",
      "name": "python3"
    },
    "language_info": {
      "codemirror_mode": {
        "name": "ipython",
        "version": 3
      },
      "file_extension": ".py",
      "mimetype": "text/x-python",
      "name": "python",
      "nbconvert_exporter": "python",
      "pygments_lexer": "ipython3",
      "version": "3.11.1"
    }
  },
  "nbformat": 4,
  "nbformat_minor": 5
}