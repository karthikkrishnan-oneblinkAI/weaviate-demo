{
  "cells": [
    {
      "cell_type": "markdown",
      "metadata": {
        "id": "custom_hyperlink_cell"
      },
      "source": [
        "[Go to Home Page](https://weaviate.oneblink.ai)\n"
      ]
    },
    {
      "cell_type": "markdown",
      "metadata": {},
      "source": [
        "# Caption Search\n",
        "\n",
        "This lab demonstrates how to perform caption search using weaviate. It involves fetching video captions, storing them in weaviate, and mapping caption indexes to time stamps. The lab uses the youtube-transcript-api for fetching captions and includes frontend elements in HTML, CSS, and JavaScript, with backend processing in NodeJs.\n"
      ]
    },
    {
      "cell_type": "markdown",
      "metadata": {},
      "source": [
        "## Prerequisites\n",
        "1. Docker and Docker-Compose installed\n",
        "2. Node and npm installed\n"
      ]
    },
    {
      "cell_type": "markdown",
      "metadata": {},
      "source": [
        "## Setup Instructions\n",
        "The setup environment is preconfigured with necessary packages and prerequisites.\n"
      ]
    },
    {
      "cell_type": "markdown",
      "metadata": {},
      "source": [
        "## Usage Instructions\n",
        "\n",
        "The project uses two main types of queries:\n",
        "\n",
        "1. **Query to fetch an answer for a searched question:** This query uses the `ask` parameter to return answers with the highest certainty.\n",
        "\n",
        "2. **Query to fetch timestamp for a starting index:** This query employs the `where` filter with a `GreaterThan` operator to filter results.\n"
      ]
    },
    {
      "cell_type": "code",
      "execution_count": null,
      "metadata": {},
      "outputs": [],
      "source": [
        "// Query to fetch an answer for a searched question\n",
        "client.graphql\n",
        "    .get()\n",
        "    .withClassName('Caption')\n",
        "    .withAsk({\n",
        "      question: searched_question,\n",
        "      properties: ['text'],\n",
        "    })\n",
        "    .withFields('_additional { answer { hasAnswer certainty property result startPosition endPosition } }')\n",
        "    .withLimit(1)\n",
        "    .do()\n",
        "    .then(info => {\n",
        "      return info\n",
        "    })\n",
        "    .catch(err => {\n",
        "      console.error(err)\n",
        "    });"
      ]
    },
    {
      "cell_type": "code",
      "execution_count": null,
      "metadata": {},
      "outputs": [],
      "source": [
        "// Query to fetch timestamp for a starting index\n",
        "client.graphql\n",
        "    .get()\n",
        "    .withClassName('Timestamps')\n",
        "    .withFields(['startIndex', 'time'])\n",
        "    .withLimit(1)\n",
        "    .withWhere({\n",
        "      operator: 'GreaterThan',\n",
        "      path: ['endIndex'],\n",
        "      valueNumber: parseInt(start_index)\n",
        "    })\n",
        "    .withSort([{ path: ['startIndex'], order: 'asc' }])\n",
        "    .do()\n",
        "    .then(info => {\n",
        "      return info;\n",
        "    })\n",
        "    .catch(err => {\n",
        "      console.error(err)\n",
        "    })"
      ]
    },
    {
      "cell_type": "markdown",
      "metadata": {},
      "source": [
        "## Python Script for Processing Video Captions\n",
        "This section of the lab involves a Python script that extracts video captions, processes them, and stores them in Weaviate. The script includes functions for extracting the video ID, fetching the transcript, setting up the Weaviate client and schema, and processing the transcript data."
      ]
    },
    {
      "cell_type": "code",
      "execution_count": null,
      "metadata": {},
      "outputs": [],
      "source": []
    },
    {
      "cell_type": "markdown",
      "metadata": {
        "id": "custom_hyperlink_cell"
      },
      "source": [
        "[Go to Home Page](https://weaviate.oneblink.ai)\n"
      ]
    }
  ],
  "metadata": {
    "kernelspec": {
      "display_name": "Python 3 (ipykernel)",
      "language": "python",
      "name": "python3"
    },
    "language_info": {
      "codemirror_mode": {
        "name": "ipython",
        "version": 3
      },
      "file_extension": ".py",
      "mimetype": "text/x-python",
      "name": "python",
      "nbconvert_exporter": "python",
      "pygments_lexer": "ipython3",
      "version": "3.11.1"
    }
  },
  "nbformat": 4,
  "nbformat_minor": 4
}