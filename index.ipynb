{
 "cells": [
  {
   "cell_type": "markdown",
   "id": "f715c526",
   "metadata": {},
   "source": [
    "# Welcome to the AWS + Weaviate Joint Workshop\n",
    "\n",
    "### Prerequisites\n",
    "- No prerequisites required\n",
    "- You have access to AWS environment with Bedrock (optionally console access also)\n",
    "- Weaviate images already deployed\n",
    "- Only a browser is needed\n",
    "\n",
    "### What You'll Learn\n",
    "- Face Recognition with Weaviate\n",
    "- AWS Bedrock with Weaviate: Use Bedrock models effortlessly with Weaviate\n",
    "- Semantic Search of Wines: Learn how to search through the world of wine reviews with semantic search\n",
    "- Multimodal Search Demo\n",
    "- Toxic Comment Detection: Use Weaviate to detect toxic comments\n",
    "- Caption Search in Videos: Unlock the potential of caption search in videos with this engaging exercise\n",
    "- Semantic Search on Podcast Transcripts: Dive into the world of semantic search with Weaviate!\n",
    "- Audio Genre: Classifying Audio Genre using Weaviate - Learn how to use Weaviate for classifying audio genres with image vectorization\n",
    "\n",
    "Get ready to dive into these topics and begin the workshop!\n",
    "\n",
    "[<button style=\"padding: 10px 20px; font-size: 1.2rem; background-color: #16a085; color: #fff; text-decoration: none; border-radius: 5px; transition: background-color 0.2s; cursor: pointer;\" href=\"main.ipynb\">Start Workshop</button>](main.ipynb)\n",
    "\n",
    "© 2024 Weaviate + AWS Workshop. All rights reserved."
   ]
  }
 ],
 "metadata": {
  "kernelspec": {
   "display_name": "Python 3 (ipykernel)",
   "language": "python",
   "name": "python3"
  },
  "language_info": {
   "codemirror_mode": {
    "name": "ipython",
    "version": 3
   },
   "file_extension": ".py",
   "mimetype": "text/x-python",
   "name": "python",
   "nbconvert_exporter": "python",
   "pygments_lexer": "ipython3",
   "version": "3.11.1"
  }
 },
 "nbformat": 4,
 "nbformat_minor": 5
}
