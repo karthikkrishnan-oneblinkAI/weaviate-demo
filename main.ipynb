{
 "cells": [
  {
   "cell_type": "markdown",
   "metadata": {},
   "source": [
    "# OneBlink Weaviate Sandbox\n",
    "\n",
    "Explore various projects and exercises in the OneBlink Weaviate Sandbox:"
   ]
  },
  {
   "cell_type": "markdown",
   "metadata": {},
   "source": [

    "<div style='max-width: 1200px; margin: 0 auto; display: flex; flex-wrap: wrap; justify-content: space-between;'>\n",
    "    <div style='background: #ffffff; border-radius: 10px; box-shadow: 0 4px 8px rgba(0, 0, 0, 0.1); overflow: hidden; width: calc(33% - 20px); margin-bottom: 20px; text-align: center;'>\n",
    "        <img src='https://images.yourstory.com/cs/2/96eabe90392211eb93f18319e8c07a74/Bedrock-1697538386527.png?w=1152&fm=auto&ar=2:1&mode=crop&crop=faces' alt='Face Recognition with Weaviate' style='width: auto; height: 180px; object-fit: cover;'/>\n",
    "        <div style='padding: 15px;'>\n",  
    "            <h2 style='margin: 0; color: #333; font-size: 1.4em; font-weight: bold;'>AWS Bedrock with Weaviate</h2>\n",
    "            <p style='color: #666; font-size: 1em; margin-top: 5px; line-height: 1.4;'>Use Bedrock models effortlessly with Weaviate</p>\n",

                "            <a href='backend//DEMO-aws-bedrock/Weaviate_Bedrock.ipynb' style='text-decoration: none; color: blue;'>Launch</a>\n", 

    "        </div>\n",
    "    </div>\n",
    "    <div style='background: #ffffff; border-radius: 10px; box-shadow: 0 4px 8px rgba(0, 0, 0, 0.1); overflow: hidden; width: calc(33% - 20px); margin-bottom: 20px; margin: 10px; text-align: center;'>\n",
    "        <img src='https://cdn.midjourney.com/eaf18209-fd62-4729-9c2c-249490f59e15/0_1.webp' alt='Semantic Search of Wines' style='width: auto; height: 180px; object-fit: cover;'/>\n",
    "        <div style='padding: 15px;'>\n",
    "            <h2 style='margin: 0; color: #333; font-size: 1.4em; font-weight: bold;'>Semantic Search of Wines</h2>\n",
    "            <p style='color: #666; font-size: 1em; margin-top: 5px; line-height: 1.4;'>Learn how to search through the world of wine reviews with semantic search</p>\n",

                "            <a href='backend//DEMO-text-search-wines/Semantic_Search_Wines_Updated.ipynb' style='text-decoration: none; color: blue;'>Launch</a>\n", 


    "        </div>\n",
    "    </div>\n",
    "    <div style='background: #ffffff; border-radius: 10px; box-shadow: 0 4px 8px rgba(0, 0, 0, 0.1); overflow: hidden; width: calc(33% - 20px); margin-bottom: 20px; margin: 10px; text-align: center;'>\n",
    "        <img src='https://cdn.midjourney.com/9e3bfc7f-451b-41cc-a462-da69489e8ca2/0_3.webp' alt='Multimodal Search Demo' style='width: auto; height: 180px; object-fit: cover;'/>\n",
    "        <div style='padding: 15px;'>\n",
    "            <h2 style='margin: 0; color: #333; font-size: 1.4em; font-weight: bold;'>Toxic Comment Detection</h2>\n",
    "            <p style='color: #666; font-size: 1em; margin-top: 5px; line-height: 1.4;'>Use Weaviate to detect toxic comments.</p>\n",

                "            <a href='backend//DEMO-classification-toxic-comment/Toxic_Comment_Classifier.ipynb' style='text-decoration: none; color: blue;'>Launch</a>\n", 

    "        </div>\n",
    "    </div>\n",
    "</div>\n",



    "<div style='max-width: 1200px; margin: 0 auto; display: flex; flex-wrap: wrap; justify-content: space-between;'>\n",
    "    <div style='background: #ffffff; border-radius: 10px; box-shadow: 0 4px 8px rgba(0, 0, 0, 0.1); overflow: hidden; width: calc(33% - 10px); margin-bottom: 20px; text-align: center;'>\n",
    "        <img src='https://cdn.midjourney.com/9aa5c2ba-3d68-4480-8109-5d4de7a844fa/0_0.webp' alt='Caption Search in Videos' style='width: auto; height: 180px; object-fit: cover;'/>\n",
    "        <div style='padding: 15px;'>\n",
    "            <h2 style='margin: 0; color: #333; font-size: 1.4em; font-weight: bold;'>Caption Search in Videos</h2>\n",
    "            <p style='color: #666; font-size: 1em; margin-top: 5px; line-height: 1.4;'>Unlock the potential of caption search in videos with this engaging exercise.</p>\n",

                "            <a href='backend//DEMO-text-search-video-captions/caption_search_lab_updated_notebook.ipynb' style='text-decoration: none; color: blue;'>Launch</a>\n", 

    "        </div>\n",
    "    </div>\n",
    "    <div style='background: #ffffff; border-radius: 10px; box-shadow: 0 4px 8px rgba(0, 0, 0, 0.1); overflow: hidden; width: calc(33% - 20px); margin-bottom: 20px; margin: 10px; text-align: center;'>\n",
    "        <img src='https://cdn.midjourney.com/ada62dd0-9b7a-4db4-a235-562a888a4707/0_0.webp' alt='Semantic Search on Podcast Transcripts' style='width: auto; height: 180px; object-fit: cover;'/>\n",
    "        <div style='padding: 15px;'>\n",
    "            <h2 style='margin: 0; color: #333; font-size: 1.4em; font-weight: bold;'>Semantic Search on Podcast Transcripts</h2>\n",
    "            <p style='color: #666; font-size: 1em; margin-top: 5px; line-height: 1.4;'>Dive into the world of semantic search with Weaviate!</p>\n",

                "            <a href='backend//DEMO-semantic-search-podcast/Semantic_Search_Podcast.ipynb' style='text-decoration: none; color: blue;'>Launch</a>\n", 

    "        </div>\n",
    "    </div>\n",
    "    <div style='background: #ffffff; border-radius: 10px; box-shadow: 0 4px 8px rgba(0, 0, 0, 0.1); overflow: hidden; width: calc(33% - 20px); margin-bottom: 20px; margin: 10px; text-align: center;'>\n",
    "        <img src='https://cdn.midjourney.com/849efabd-7f06-47c9-8df3-f3ab004a0687/0_1.webp' alt='Audio Genre' style='width: auto; height: 180px; object-fit: cover;'/>\n",
    "        <div style='padding: 15px;'>\n",
    "            <h2 style='margin: 0; color: #333; font-size: 1.4em; font-weight: bold;'>Classifying Audio Genre using Weaviate</h2>\n",
    "            <p style='color: #666; font-size: 1em; margin-top: 5px; line-height: 1.4;'>Learn how to use Weaviate for classifying audio genres with image vectorization.</p>\n",
                "            <a href='backend//DEMO-classification-audio-genre/Audio_Genre_Classifier_Lab_Session.ipynb' style='text-decoration: none; color: blue;'>Launch</a>\n", 


    "        </div>\n",
    "    </div>\n",
    "</div>"


   ]
  }
 ],
 "metadata": {
  "kernelspec": {
   "display_name": "Python 3 (ipykernel)",
   "language": "python",
   "name": "python3"
  },
  "language_info": {
   "codemirror_mode": {
    "name": "ipython",
    "version": 3
   },
   "file_extension": ".py",
   "mimetype": "text/x-python",
   "name": "python",
   "nbconvert_exporter": "python",
   "pygments_lexer": "ipython3",
   "version": "3.11.1"
  }
 },
 "nbformat": 4,
 "nbformat_minor": 4
}
