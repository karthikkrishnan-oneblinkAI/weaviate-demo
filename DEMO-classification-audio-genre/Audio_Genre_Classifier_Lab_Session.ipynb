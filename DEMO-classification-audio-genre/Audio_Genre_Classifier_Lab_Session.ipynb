{
  "cells": [
    {
      "cell_type": "markdown",
      "metadata": {
        "id": "custom_hyperlink_cell"
      },
      "source": [
        "[Go to Home Page](https://weaviate.oneblink.ai)\n"
      ]
    },
    {
      "cell_type": "markdown",
      "id": "a111afed",
      "metadata": {},
      "source": [
        "# Audio Genre Classifier\n",
        "## Introduction\n",
        "Welcome to the Audio Genre Classifier workshop! In this lab, we'll use Weaviate's img2vec module to build a classifier that converts images of audio spectrograms into vectors using neural networks. We'll develop the frontend using HTML, CSS, and JavaScript and the backend with Flask. You'll learn to set up your environment, create data schemas, import data, and implement a Flask application for audio file upload. Let's get started!\n",
        "Explore the project's origin [here](https://github.com/weaviate/weaviate-examples/tree/main/audio-genre-classification)."
      ]
    },
    {
      "cell_type": "markdown",
      "id": "setup-intro",
      "metadata": {},
      "source": [
        "## Environment Setup\n",
        "First, let's set up our working environment by importing necessary libraries and initializing our Weaviate client."
      ]
    },
    {
      "cell_type": "code",
      "execution_count": null,
      "id": "fbced720",
      "metadata": {},
      "outputs": [],
      "source": [
        "import weaviate\n",
        "import os\n",
        "client = weaviate.Client(\"http://localhost:8085\")\n",
        "print(\"Weaviate Client Connected\")\n"
      ]
    },
    {
      "cell_type": "markdown",
      "id": "schema-setup",
      "metadata": {},
      "source": [
        "## Schema Creation\n",
        "Now, we'll create a schema for our audio genres. This step involves defining the data structure in Weaviate."
      ]
    },
    {
      "cell_type": "code",
      "execution_count": null,
      "id": "68a64cb5",
      "metadata": {},
      "outputs": [],
      "source": [
        "#Checking if Audiogenres schema already exists, then delete it\n",
        "current_schemas = client.schema.get()['classes']\n",
        "for schema in current_schemas:\n",
        "    if schema['class']=='Audiogenres':\n",
        "        client.schema.delete_class('Audiogenres')\n",
        "        print(\"Deleted existing schema: Audiogenres\")\n",
        "\n",
        "\n",
        "class_obj = {\n",
        "        \"class\": \"Audiogenres\",\n",
        "        \"description\": \"Each object contains an image of a spectrogram and a label about genre of that spectrogram\",\n",
        "        \"moduleConfig\": {\n",
        "            \"img2vec-neural\": {\n",
        "                \"imageFields\": [\n",
        "                    \"image\"\n",
        "                ]\n",
        "            }\n",
        "        },\n",
        "        \"properties\": [\n",
        "            {\n",
        "                \"dataType\": [\n",
        "                    \"blob\"\n",
        "                ],\n",
        "                \"description\": \"spectrogram image\",\n",
        "                \"name\": \"image\"\n",
        "            },\n",
        "            {\n",
        "                \"dataType\": [\n",
        "                    \"string\"\n",
        "                ],\n",
        "                \"description\": \"label name (genre) of the given spectrogram.\",\n",
        "                \"name\": \"labelName\"\n",
        "            }\n",
        "\n",
        "        ],\n",
        "\n",
        "        \"vectorIndexType\": \"hnsw\",\n",
        "        \"vectorizer\": \"img2vec-neural\"\n",
        "    }\n",
        "\n",
        "client.schema.create_class(class_obj)\n",
        "print(\"Created new schema class: Audiogenres\")\n",
        "\n"
      ]
    },
    {
      "cell_type": "markdown",
      "id": "data-import",
      "metadata": {},
      "source": [
        "## Data Importing\n",
        "Next, we will import the spectrogram images. We'll configure the batch processing for efficiency and then load images from each genre folder."
      ]
    },
    {
      "cell_type": "code",
      "execution_count": null,
      "id": "67fdac7b",
      "metadata": {},
      "outputs": [],
      "source": [
        "#Configure batch process - for faster imports \n",
        "#see: https://weaviate.io/developers/weaviate/current/restful-api-references/batch.html\n",
        "client.batch.configure(\n",
        "  batch_size=10, \n",
        "  # dynamically update the `batch_size` based on import speed\n",
        "  dynamic=True,\n",
        "  timeout_retries=3,\n",
        ")\n",
        "\n",
        "folders = ['blues','classical','country','disco','hiphop','jazz','metal','pop','reggae','rock']; \n",
        "for fol in folders:\n",
        "    for img in os.listdir(f\"images_original/{fol}\"):\n",
        "        print(f\"Importing {img}\")\n",
        "        \n",
        "        encoded_image = weaviate.util.image_encoder_b64(f\"images_original/{fol}/{img}\")\n",
        "        \n",
        "        data_properties = {\n",
        "            \"labelName\": fol,\n",
        "            \"image\": encoded_image\n",
        "        }\n",
        "        \n",
        "        try:\n",
        "            client.data_object.create(data_properties, \"Audiogenres\")\n",
        "        except BaseException as error:\n",
        "            print(\"Import Failed at: \",i)\n",
        "            print(\"An exception occurred: {}\".format(error))\n",
        "            # Stop the import on error\n",
        "            break\n",
        "\n",
        "    print(f\"All images from {fol} added.\")\n",
        "\n",
        "client.batch.flush()"
      ]
    },
    {
      "cell_type": "markdown",
      "id": "flask-integration",
      "metadata": {},
      "source": [
        "## Flask Application Integration\n",
        "Finally, let's integrate the Flask application for audio file uploads. This application will allow users to upload audio files, which will then be processed to generate spectrograms and classify the audio genre."
      ]
    },
    {
      "cell_type": "code",
      "execution_count": null,
      "id": "flask-code",
      "metadata": {},
      "outputs": [],
      "source": [
        "!python3.11 upload.py"
      ]
    },
    {
      "cell_type": "markdown",
      "id": "conclusion",
      "metadata": {},
      "source": [
        "## Conclusion\n",
        "Congratulations on completing the lab session! You've successfully built an Audio Genre Classifier using Weaviate and integrated a Flask application for audio file uploads. For more information and resources, refer to the [GitHub repository](https://github.com/weaviate/weaviate-examples/tree/main/audio-genre-classification). Happy coding!"
      ]
    },
    {
      "cell_type": "markdown",
      "metadata": {
        "id": "custom_hyperlink_cell"
      },
      "source": [
        "[Go to Home Page](https://weaviate.oneblink.ai)\n"
      ]
    }
  ],
  "metadata": {
    "kernelspec": {
      "display_name": "Python 3 (ipykernel)",
      "language": "python",
      "name": "python3"
    },
    "language_info": {
      "codemirror_mode": {
        "name": "ipython",
        "version": 3
      },
      "file_extension": ".py",
      "mimetype": "text/x-python",
      "name": "python",
      "nbconvert_exporter": "python",
      "pygments_lexer": "ipython3",
      "version": "3.11.1"
    }
  },
  "nbformat": 4,
  "nbformat_minor": 5
}
