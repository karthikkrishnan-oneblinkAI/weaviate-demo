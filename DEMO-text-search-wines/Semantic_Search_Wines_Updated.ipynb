{
  "cells": [
    {
      "cell_type": "markdown",
      "metadata": {
        "id": "custom_hyperlink_cell"
      },
      "source": [
        "[Go to Home Page](https://weaviate.oneblink.ai)\n"
      ]
    },
    {
      "cell_type": "markdown",
      "metadata": {},
      "source": [
        "# Introduction to Semantic Search with Weaviate\n",
        "\n",
        "This section introduces the lab, focusing on semantic search capabilities using Weaviate with a wine reviews dataset. The goal is to set up Weaviate, utilize a transformer model for vectorization, and perform search queries."
      ]
    },
    {
      "cell_type": "markdown",
      "metadata": {},
      "source": [
        "## Setting Up the Environment\n",
        "\n",
        "This section covers the initial setup: importing necessary libraries and establishing a connection to Weaviate."
      ]
    },
    {
      "cell_type": "code",
      "execution_count": null,
      "metadata": {},
      "outputs": [],
      "source": [
        "import weaviate\n",
        "from weaviate import Config\n",
        "import weaviate.classes as wvc\n",
        "import os\n",
        "import pandas as pd\n",
        "import pdb\n",
        "from tqdm import tqdm\n",
        "from tabulate import tabulate\n",
        "\n",
        "# Sandbox is already setup with Weaviate running on port 8080\n",
        "client = weaviate.connect_to_local(port=8080, grpc_port=50051)"
      ]
    },
    {
      "cell_type": "markdown",
      "metadata": {},
      "source": [
        "## Preparing the WineReviews Collection\n",
        "\n",
        "This part involves creating a new 'WineReviews' collection in Weaviate and checking its existence."
      ]
    },
    {
      "cell_type": "code",
      "execution_count": null,
      "metadata": {},
      "outputs": [],
      "source": [
        "# Deleting any previously existing 'WineReviews' collections\n",
        "print(client.collections.delete('WineReviews'))\n",
        "\n",
        "# Creating a new collection 'WineReviews' with properties 'title' and 'description'\n",
        "client.collections.create(\n",
        "    name='WineReviews',\n",
        "    properties=[\n",
        "        wvc.Property(name='title', data_type=wvc.DataType.TEXT),\n",
        "        wvc.Property(name='description', data_type=wvc.DataType.TEXT)\n",
        "    ],\n",
        "    vectorizer_config=wvc.Configure.Vectorizer.text2vec_transformers()\n",
        ")\n",
        "\n",
        "# Checking if the collection exists\n",
        "is_exist = client.collections.exists('WineReviews')\n",
        "if is_exist:\n",
        "    print('Collection WineReviews is created successfully')\n",
        "else:\n",
        "    print('Collection WineReviews is not created successfully')\n",
        "    assert False"
      ]
    },
    {
      "cell_type": "markdown",
      "metadata": {},
      "source": [
        "## Importing and Inserting Data\n",
        "\n",
        "Here, we import the wine review data using pandas, and insert it into the 'WineReviews' collection."
      ]
    },
    {
      "cell_type": "code",
      "execution_count": null,
      "metadata": {},
      "outputs": [],
      "source": [
        "# Importing the data\n",
        "data = pd.read_csv('./data/wine_reviews.csv', index_col=0)\n",
        "# shuffle\n",
        "data = data.sample(frac=1)\n",
        "data = data[:100]  # Limiting for quick test\n",
        "\n",
        "# Getting the 'WineReviews' collection\n",
        "wine_collection = client.collections.get('WineReviews')\n",
        "\n",
        "# Preparing data for insertion\n",
        "progress_bar = tqdm(total=len(data))\n",
        "wines_to_add = []\n",
        "for index, row in data.iterrows():\n",
        "    wine = {'title': row['title'] + '.', 'description': row['description']}\n",
        "    wines_to_add.append(wine)\n",
        "    response = wine_collection.data.insert(wine)\n",
        "    progress_bar.update(1)\n",
        "progress_bar.close()\n",
        "\n",
        "# Inserting the data\n",
        "response = wine_collection.data.insert_many(wines_to_add)\n",
        "# Fetching and printing a sample of the data\n",
        "response = wine_collection.query.fetch_objects(limit=2)\n",
        "print(response)"
      ]
    },
    {
      "cell_type": "markdown",
      "metadata": {},
      "source": [
        "## Executing Search Queries\n",
        "\n",
        "In this final section, we execute search queries based on user input to find relevant wine reviews."
      ]
    },
    {
      "cell_type": "code",
      "execution_count": null,
      "metadata": {},
      "outputs": [],
      "source": [
        "# Ensuring the collection exists\n",
        "if not client.collections.exists('WineReviews'):\n",
        "    raise Exception('Collection does not exist')\n",
        "\n",
        "reviews = client.collections.get('WineReviews')\n",
        "\n",
        "# User input for search query\n",
        "user_query = input('Please enter the type of wine you are looking for: ')\n",
        "\n",
        "# Executing the search query\n",
        "query_response = reviews.query.near_text(user_query, limit=10)\n",
        "print('-' * 20)\n",
        "print('The query responses are as follows:\\n')\n",
        "for i, obj in enumerate(query_response.objects):\n",
        "    title = obj.properties['title']\n",
        "    description = obj.properties['description']\n",
        "    print(f'{i+1}. Title: {title}\\n   Description: {description}\\n')\n",
        "print('-' * 20)"
      ]
    },
    {
      "cell_type": "code",
      "execution_count": null,
      "metadata": {},
      "outputs": [],
      "source": []
    },
    {
      "cell_type": "markdown",
      "metadata": {
        "id": "custom_hyperlink_cell"
      },
      "source": [
        "[Go to Home Page](https://weaviate.oneblink.ai)\n"
      ]
    }
  ],
  "metadata": {
    "kernelspec": {
      "display_name": "Python 3 (ipykernel)",
      "language": "python",
      "name": "python3"
    },
    "language_info": {
      "codemirror_mode": {
        "name": "ipython",
        "version": 3
      },
      "file_extension": ".py",
      "mimetype": "text/x-python",
      "name": "python",
      "nbconvert_exporter": "python",
      "pygments_lexer": "ipython3",
      "version": "3.11.1"
    }
  },
  "nbformat": 4,
  "nbformat_minor": 4
}